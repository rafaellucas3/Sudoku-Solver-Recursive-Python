{
 "metadata": {
  "language_info": {
   "codemirror_mode": {
    "name": "ipython",
    "version": 3
   },
   "file_extension": ".py",
   "mimetype": "text/x-python",
   "name": "python",
   "nbconvert_exporter": "python",
   "pygments_lexer": "ipython3",
   "version": "3.7.6-final"
  },
  "orig_nbformat": 2,
  "kernelspec": {
   "name": "python3",
   "display_name": "Python 3"
  }
 },
 "nbformat": 4,
 "nbformat_minor": 2,
 "cells": [
  {
   "cell_type": "code",
   "execution_count": 74,
   "metadata": {},
   "outputs": [],
   "source": [
    "import numpy as np"
   ]
  },
  {
   "cell_type": "code",
   "execution_count": 75,
   "metadata": {},
   "outputs": [],
   "source": [
    "ls_sudoku = [[0,0,0,2,6,0,7,0,1],\n",
    "             [6,8,0,0,7,0,0,9,0],\n",
    "             [1,9,0,0,0,4,5,0,0],\n",
    "             [8,2,0,1,0,0,0,4,0],\n",
    "             [0,0,4,6,0,2,9,0,0],\n",
    "             [0,5,0,0,0,3,0,2,8],\n",
    "             [0,0,9,3,0,0,0,7,4],\n",
    "             [0,4,0,0,5,0,0,3,6],\n",
    "             [7,0,3,0,1,8,0,0,0]]"
   ]
  },
  {
   "cell_type": "code",
   "execution_count": 76,
   "metadata": {},
   "outputs": [],
   "source": [
    "sudoku = np.array(ls_sudoku)"
   ]
  },
  {
   "cell_type": "code",
   "execution_count": 90,
   "metadata": {},
   "outputs": [],
   "source": [
    "def isValid(number, row, column):\n",
    "    global sudoku\n",
    "\n",
    "    for j in range(9):\n",
    "        if number == sudoku[row][j]:\n",
    "            return False\n",
    "    \n",
    "    for i in range(9):\n",
    "        if number == sudoku[i][column]:\n",
    "            return False\n",
    "            \n",
    "    subgrids = [[0, 0, 0, 1, 1, 1, 2, 2 ,2],\n",
    "                [0, 0, 0, 1, 1, 1, 2, 2 ,2],\n",
    "                [0, 0, 0, 1, 1, 1, 2, 2 ,2],\n",
    "                [3, 3, 3, 4, 4, 4, 5, 5, 5],\n",
    "                [3, 3, 3, 4, 4, 4, 5, 5, 5],\n",
    "                [3, 3, 3, 4, 4, 4, 5, 5, 5],\n",
    "                [6, 6, 6, 7, 7, 7, 8, 8, 8],\n",
    "                [6, 6, 6, 7, 7, 7, 8, 8, 8],\n",
    "                [6, 6, 6, 7, 7, 7, 8, 8, 8]]\n",
    "    \n",
    "    i_am_at_subgrid = subgrids[row][column]\n",
    "\n",
    "    if i_am_at_subgrid == 0:\n",
    "        sudoku_subgrid = sudoku[0:3, 0:3]\n",
    "    elif i_am_at_subgrid == 1:\n",
    "        sudoku_subgrid = sudoku[0:3, 3:6]\n",
    "    elif i_am_at_subgrid == 2:\n",
    "        sudoku_subgrid = sudoku[0:3, 6:10]\n",
    "    elif i_am_at_subgrid == 3:\n",
    "        sudoku_subgrid = sudoku[3:6, 0:3]\n",
    "    elif i_am_at_subgrid == 4:\n",
    "        sudoku_subgrid = sudoku[3:6, 3:6]\n",
    "    elif i_am_at_subgrid == 5:\n",
    "        sudoku_subgrid = sudoku[3:6, 6:10]\n",
    "    elif i_am_at_subgrid == 6:\n",
    "        sudoku_subgrid = sudoku[6:10, 0:3]\n",
    "    elif i_am_at_subgrid == 7:\n",
    "        sudoku_subgrid = sudoku[6:10, 3:6]\n",
    "    elif i_am_at_subgrid == 8:\n",
    "        sudoku_subgrid = sudoku[6:10, 6:10]\n",
    "\n",
    "    if number in sudoku_subgrid:\n",
    "        return False\n",
    "    \n",
    "    return True"
   ]
  },
  {
   "cell_type": "code",
   "execution_count": 93,
   "metadata": {},
   "outputs": [],
   "source": [
    "def Solve():\n",
    "    global sudoku\n",
    "\n",
    "    #Recursion \n",
    "    for column in range(9):\n",
    "        for row in range(9):\n",
    "            if sudoku[row][column] == 0:\n",
    "                for candidate in range(1, 10):\n",
    "                    if isValid(candidate, row, column):\n",
    "                        sudoku[row][column] = candidate\n",
    "                        Solve()\n",
    "                        sudoku[row][column] = 0\n",
    "                return\n",
    "\n",
    "    print(sudoku)\n",
    "    input(\"More?\")"
   ]
  },
  {
   "cell_type": "code",
   "execution_count": 94,
   "metadata": {
    "tags": []
   },
   "outputs": [
    {
     "output_type": "stream",
     "name": "stdout",
     "text": [
      "[[4 3 5 2 6 9 7 8 1]\n [6 8 2 5 7 1 4 9 3]\n [1 9 7 8 3 4 5 6 2]\n [8 2 6 1 9 5 3 4 7]\n [3 7 4 6 8 2 9 1 5]\n [9 5 1 7 4 3 6 2 8]\n [5 1 9 3 2 6 8 7 4]\n [2 4 8 9 5 7 1 3 6]\n [7 6 3 4 1 8 2 5 9]]\n"
     ]
    }
   ],
   "source": [
    "Solve()"
   ]
  }
 ]
}